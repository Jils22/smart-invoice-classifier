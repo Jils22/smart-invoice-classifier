{
  "cells": [
    {
      "cell_type": "markdown",
      "metadata": {},
      "source": [
        "# Smart Invoice Classifier Notebook\n",
        "This notebook demonstrates generating dummy invoices, training the model, and testing predictions."
      ]
    },
    {
      "cell_type": "code",
      "metadata": {},
      "source": [
        "!python data/generate_dummy_invoices.py"
      ],
      "outputs": [],
      "execution_count": null
    },
    {
      "cell_type": "code",
      "metadata": {},
      "source": [
        "!python src/model/train.py"
      ],
      "outputs": [],
      "execution_count": null
    },
    {
      "cell_type": "code",
      "metadata": {},
      "source": [
        "from src.model.predict import load_model, predict_text\n",
        "model = load_model()\n",
        "sample = open('data/dummy_invoices/INV0001.txt','r',encoding='utf-8').read()\n",
        "print(sample)\n",
        "print(predict_text(sample, model))"
      ],
      "outputs": [],
      "execution_count": null
    }
  ],
  "metadata": {
    "kernelspec": {
      "display_name": "Python 3",
      "language": "python",
      "name": "python3"
    },
    "language_info": {
      "name": "python",
      "version": "3.10"
    }
  },
  "nbformat": 4,
  "nbformat_minor": 5
}